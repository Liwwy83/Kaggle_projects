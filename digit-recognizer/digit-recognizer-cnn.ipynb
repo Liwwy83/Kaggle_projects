{
 "cells": [
  {
   "cell_type": "code",
   "execution_count": 1,
   "id": "c72a72ad",
   "metadata": {
    "execution": {
     "iopub.execute_input": "2022-03-09T19:30:13.146613Z",
     "iopub.status.busy": "2022-03-09T19:30:13.145806Z",
     "iopub.status.idle": "2022-03-09T19:30:18.761973Z",
     "shell.execute_reply": "2022-03-09T19:30:18.761504Z",
     "shell.execute_reply.started": "2022-03-09T19:16:01.178673Z"
    },
    "papermill": {
     "duration": 5.636795,
     "end_time": "2022-03-09T19:30:18.762096",
     "exception": false,
     "start_time": "2022-03-09T19:30:13.125301",
     "status": "completed"
    },
    "tags": []
   },
   "outputs": [],
   "source": [
    "#import required library\n",
    "import numpy as np \n",
    "import pandas as pd\n",
    "import tensorflow as tf\n",
    "\n",
    "from tensorflow import keras\n",
    "from keras import Sequential\n",
    "from keras.layers import Dense, Conv2D, Flatten, BatchNormalization, MaxPooling2D\n",
    "from keras.utils.np_utils import to_categorical\n",
    "from sklearn.model_selection import train_test_split"
   ]
  },
  {
   "cell_type": "code",
   "execution_count": 2,
   "id": "9a10933b",
   "metadata": {},
   "outputs": [],
   "source": [
    "import os\n",
    "os.environ['TF_CPP_MIN_LOG_LEVEL'] = '2'"
   ]
  },
  {
   "cell_type": "code",
   "execution_count": 3,
   "id": "0c8203b4",
   "metadata": {
    "execution": {
     "iopub.execute_input": "2022-03-09T19:30:18.801682Z",
     "iopub.status.busy": "2022-03-09T19:30:18.800990Z",
     "iopub.status.idle": "2022-03-09T19:30:23.466115Z",
     "shell.execute_reply": "2022-03-09T19:30:23.465662Z",
     "shell.execute_reply.started": "2022-03-09T19:16:01.191826Z"
    },
    "papermill": {
     "duration": 4.685859,
     "end_time": "2022-03-09T19:30:23.466244",
     "exception": false,
     "start_time": "2022-03-09T19:30:18.780385",
     "status": "completed"
    },
    "tags": []
   },
   "outputs": [
    {
     "data": {
      "text/html": [
       "<div>\n",
       "<style scoped>\n",
       "    .dataframe tbody tr th:only-of-type {\n",
       "        vertical-align: middle;\n",
       "    }\n",
       "\n",
       "    .dataframe tbody tr th {\n",
       "        vertical-align: top;\n",
       "    }\n",
       "\n",
       "    .dataframe thead th {\n",
       "        text-align: right;\n",
       "    }\n",
       "</style>\n",
       "<table border=\"1\" class=\"dataframe\">\n",
       "  <thead>\n",
       "    <tr style=\"text-align: right;\">\n",
       "      <th></th>\n",
       "      <th>label</th>\n",
       "      <th>pixel0</th>\n",
       "      <th>pixel1</th>\n",
       "      <th>pixel2</th>\n",
       "      <th>pixel3</th>\n",
       "      <th>pixel4</th>\n",
       "      <th>pixel5</th>\n",
       "      <th>pixel6</th>\n",
       "      <th>pixel7</th>\n",
       "      <th>pixel8</th>\n",
       "      <th>...</th>\n",
       "      <th>pixel774</th>\n",
       "      <th>pixel775</th>\n",
       "      <th>pixel776</th>\n",
       "      <th>pixel777</th>\n",
       "      <th>pixel778</th>\n",
       "      <th>pixel779</th>\n",
       "      <th>pixel780</th>\n",
       "      <th>pixel781</th>\n",
       "      <th>pixel782</th>\n",
       "      <th>pixel783</th>\n",
       "    </tr>\n",
       "  </thead>\n",
       "  <tbody>\n",
       "    <tr>\n",
       "      <th>0</th>\n",
       "      <td>1</td>\n",
       "      <td>0</td>\n",
       "      <td>0</td>\n",
       "      <td>0</td>\n",
       "      <td>0</td>\n",
       "      <td>0</td>\n",
       "      <td>0</td>\n",
       "      <td>0</td>\n",
       "      <td>0</td>\n",
       "      <td>0</td>\n",
       "      <td>...</td>\n",
       "      <td>0</td>\n",
       "      <td>0</td>\n",
       "      <td>0</td>\n",
       "      <td>0</td>\n",
       "      <td>0</td>\n",
       "      <td>0</td>\n",
       "      <td>0</td>\n",
       "      <td>0</td>\n",
       "      <td>0</td>\n",
       "      <td>0</td>\n",
       "    </tr>\n",
       "    <tr>\n",
       "      <th>1</th>\n",
       "      <td>0</td>\n",
       "      <td>0</td>\n",
       "      <td>0</td>\n",
       "      <td>0</td>\n",
       "      <td>0</td>\n",
       "      <td>0</td>\n",
       "      <td>0</td>\n",
       "      <td>0</td>\n",
       "      <td>0</td>\n",
       "      <td>0</td>\n",
       "      <td>...</td>\n",
       "      <td>0</td>\n",
       "      <td>0</td>\n",
       "      <td>0</td>\n",
       "      <td>0</td>\n",
       "      <td>0</td>\n",
       "      <td>0</td>\n",
       "      <td>0</td>\n",
       "      <td>0</td>\n",
       "      <td>0</td>\n",
       "      <td>0</td>\n",
       "    </tr>\n",
       "    <tr>\n",
       "      <th>2</th>\n",
       "      <td>1</td>\n",
       "      <td>0</td>\n",
       "      <td>0</td>\n",
       "      <td>0</td>\n",
       "      <td>0</td>\n",
       "      <td>0</td>\n",
       "      <td>0</td>\n",
       "      <td>0</td>\n",
       "      <td>0</td>\n",
       "      <td>0</td>\n",
       "      <td>...</td>\n",
       "      <td>0</td>\n",
       "      <td>0</td>\n",
       "      <td>0</td>\n",
       "      <td>0</td>\n",
       "      <td>0</td>\n",
       "      <td>0</td>\n",
       "      <td>0</td>\n",
       "      <td>0</td>\n",
       "      <td>0</td>\n",
       "      <td>0</td>\n",
       "    </tr>\n",
       "    <tr>\n",
       "      <th>3</th>\n",
       "      <td>4</td>\n",
       "      <td>0</td>\n",
       "      <td>0</td>\n",
       "      <td>0</td>\n",
       "      <td>0</td>\n",
       "      <td>0</td>\n",
       "      <td>0</td>\n",
       "      <td>0</td>\n",
       "      <td>0</td>\n",
       "      <td>0</td>\n",
       "      <td>...</td>\n",
       "      <td>0</td>\n",
       "      <td>0</td>\n",
       "      <td>0</td>\n",
       "      <td>0</td>\n",
       "      <td>0</td>\n",
       "      <td>0</td>\n",
       "      <td>0</td>\n",
       "      <td>0</td>\n",
       "      <td>0</td>\n",
       "      <td>0</td>\n",
       "    </tr>\n",
       "    <tr>\n",
       "      <th>4</th>\n",
       "      <td>0</td>\n",
       "      <td>0</td>\n",
       "      <td>0</td>\n",
       "      <td>0</td>\n",
       "      <td>0</td>\n",
       "      <td>0</td>\n",
       "      <td>0</td>\n",
       "      <td>0</td>\n",
       "      <td>0</td>\n",
       "      <td>0</td>\n",
       "      <td>...</td>\n",
       "      <td>0</td>\n",
       "      <td>0</td>\n",
       "      <td>0</td>\n",
       "      <td>0</td>\n",
       "      <td>0</td>\n",
       "      <td>0</td>\n",
       "      <td>0</td>\n",
       "      <td>0</td>\n",
       "      <td>0</td>\n",
       "      <td>0</td>\n",
       "    </tr>\n",
       "  </tbody>\n",
       "</table>\n",
       "<p>5 rows × 785 columns</p>\n",
       "</div>"
      ],
      "text/plain": [
       "   label  pixel0  pixel1  pixel2  pixel3  pixel4  pixel5  pixel6  pixel7  \\\n",
       "0      1       0       0       0       0       0       0       0       0   \n",
       "1      0       0       0       0       0       0       0       0       0   \n",
       "2      1       0       0       0       0       0       0       0       0   \n",
       "3      4       0       0       0       0       0       0       0       0   \n",
       "4      0       0       0       0       0       0       0       0       0   \n",
       "\n",
       "   pixel8  ...  pixel774  pixel775  pixel776  pixel777  pixel778  pixel779  \\\n",
       "0       0  ...         0         0         0         0         0         0   \n",
       "1       0  ...         0         0         0         0         0         0   \n",
       "2       0  ...         0         0         0         0         0         0   \n",
       "3       0  ...         0         0         0         0         0         0   \n",
       "4       0  ...         0         0         0         0         0         0   \n",
       "\n",
       "   pixel780  pixel781  pixel782  pixel783  \n",
       "0         0         0         0         0  \n",
       "1         0         0         0         0  \n",
       "2         0         0         0         0  \n",
       "3         0         0         0         0  \n",
       "4         0         0         0         0  \n",
       "\n",
       "[5 rows x 785 columns]"
      ]
     },
     "metadata": {},
     "output_type": "display_data"
    },
    {
     "data": {
      "text/html": [
       "<div>\n",
       "<style scoped>\n",
       "    .dataframe tbody tr th:only-of-type {\n",
       "        vertical-align: middle;\n",
       "    }\n",
       "\n",
       "    .dataframe tbody tr th {\n",
       "        vertical-align: top;\n",
       "    }\n",
       "\n",
       "    .dataframe thead th {\n",
       "        text-align: right;\n",
       "    }\n",
       "</style>\n",
       "<table border=\"1\" class=\"dataframe\">\n",
       "  <thead>\n",
       "    <tr style=\"text-align: right;\">\n",
       "      <th></th>\n",
       "      <th>pixel0</th>\n",
       "      <th>pixel1</th>\n",
       "      <th>pixel2</th>\n",
       "      <th>pixel3</th>\n",
       "      <th>pixel4</th>\n",
       "      <th>pixel5</th>\n",
       "      <th>pixel6</th>\n",
       "      <th>pixel7</th>\n",
       "      <th>pixel8</th>\n",
       "      <th>pixel9</th>\n",
       "      <th>...</th>\n",
       "      <th>pixel774</th>\n",
       "      <th>pixel775</th>\n",
       "      <th>pixel776</th>\n",
       "      <th>pixel777</th>\n",
       "      <th>pixel778</th>\n",
       "      <th>pixel779</th>\n",
       "      <th>pixel780</th>\n",
       "      <th>pixel781</th>\n",
       "      <th>pixel782</th>\n",
       "      <th>pixel783</th>\n",
       "    </tr>\n",
       "  </thead>\n",
       "  <tbody>\n",
       "    <tr>\n",
       "      <th>0</th>\n",
       "      <td>0</td>\n",
       "      <td>0</td>\n",
       "      <td>0</td>\n",
       "      <td>0</td>\n",
       "      <td>0</td>\n",
       "      <td>0</td>\n",
       "      <td>0</td>\n",
       "      <td>0</td>\n",
       "      <td>0</td>\n",
       "      <td>0</td>\n",
       "      <td>...</td>\n",
       "      <td>0</td>\n",
       "      <td>0</td>\n",
       "      <td>0</td>\n",
       "      <td>0</td>\n",
       "      <td>0</td>\n",
       "      <td>0</td>\n",
       "      <td>0</td>\n",
       "      <td>0</td>\n",
       "      <td>0</td>\n",
       "      <td>0</td>\n",
       "    </tr>\n",
       "    <tr>\n",
       "      <th>1</th>\n",
       "      <td>0</td>\n",
       "      <td>0</td>\n",
       "      <td>0</td>\n",
       "      <td>0</td>\n",
       "      <td>0</td>\n",
       "      <td>0</td>\n",
       "      <td>0</td>\n",
       "      <td>0</td>\n",
       "      <td>0</td>\n",
       "      <td>0</td>\n",
       "      <td>...</td>\n",
       "      <td>0</td>\n",
       "      <td>0</td>\n",
       "      <td>0</td>\n",
       "      <td>0</td>\n",
       "      <td>0</td>\n",
       "      <td>0</td>\n",
       "      <td>0</td>\n",
       "      <td>0</td>\n",
       "      <td>0</td>\n",
       "      <td>0</td>\n",
       "    </tr>\n",
       "    <tr>\n",
       "      <th>2</th>\n",
       "      <td>0</td>\n",
       "      <td>0</td>\n",
       "      <td>0</td>\n",
       "      <td>0</td>\n",
       "      <td>0</td>\n",
       "      <td>0</td>\n",
       "      <td>0</td>\n",
       "      <td>0</td>\n",
       "      <td>0</td>\n",
       "      <td>0</td>\n",
       "      <td>...</td>\n",
       "      <td>0</td>\n",
       "      <td>0</td>\n",
       "      <td>0</td>\n",
       "      <td>0</td>\n",
       "      <td>0</td>\n",
       "      <td>0</td>\n",
       "      <td>0</td>\n",
       "      <td>0</td>\n",
       "      <td>0</td>\n",
       "      <td>0</td>\n",
       "    </tr>\n",
       "    <tr>\n",
       "      <th>3</th>\n",
       "      <td>0</td>\n",
       "      <td>0</td>\n",
       "      <td>0</td>\n",
       "      <td>0</td>\n",
       "      <td>0</td>\n",
       "      <td>0</td>\n",
       "      <td>0</td>\n",
       "      <td>0</td>\n",
       "      <td>0</td>\n",
       "      <td>0</td>\n",
       "      <td>...</td>\n",
       "      <td>0</td>\n",
       "      <td>0</td>\n",
       "      <td>0</td>\n",
       "      <td>0</td>\n",
       "      <td>0</td>\n",
       "      <td>0</td>\n",
       "      <td>0</td>\n",
       "      <td>0</td>\n",
       "      <td>0</td>\n",
       "      <td>0</td>\n",
       "    </tr>\n",
       "    <tr>\n",
       "      <th>4</th>\n",
       "      <td>0</td>\n",
       "      <td>0</td>\n",
       "      <td>0</td>\n",
       "      <td>0</td>\n",
       "      <td>0</td>\n",
       "      <td>0</td>\n",
       "      <td>0</td>\n",
       "      <td>0</td>\n",
       "      <td>0</td>\n",
       "      <td>0</td>\n",
       "      <td>...</td>\n",
       "      <td>0</td>\n",
       "      <td>0</td>\n",
       "      <td>0</td>\n",
       "      <td>0</td>\n",
       "      <td>0</td>\n",
       "      <td>0</td>\n",
       "      <td>0</td>\n",
       "      <td>0</td>\n",
       "      <td>0</td>\n",
       "      <td>0</td>\n",
       "    </tr>\n",
       "  </tbody>\n",
       "</table>\n",
       "<p>5 rows × 784 columns</p>\n",
       "</div>"
      ],
      "text/plain": [
       "   pixel0  pixel1  pixel2  pixel3  pixel4  pixel5  pixel6  pixel7  pixel8  \\\n",
       "0       0       0       0       0       0       0       0       0       0   \n",
       "1       0       0       0       0       0       0       0       0       0   \n",
       "2       0       0       0       0       0       0       0       0       0   \n",
       "3       0       0       0       0       0       0       0       0       0   \n",
       "4       0       0       0       0       0       0       0       0       0   \n",
       "\n",
       "   pixel9  ...  pixel774  pixel775  pixel776  pixel777  pixel778  pixel779  \\\n",
       "0       0  ...         0         0         0         0         0         0   \n",
       "1       0  ...         0         0         0         0         0         0   \n",
       "2       0  ...         0         0         0         0         0         0   \n",
       "3       0  ...         0         0         0         0         0         0   \n",
       "4       0  ...         0         0         0         0         0         0   \n",
       "\n",
       "   pixel780  pixel781  pixel782  pixel783  \n",
       "0         0         0         0         0  \n",
       "1         0         0         0         0  \n",
       "2         0         0         0         0  \n",
       "3         0         0         0         0  \n",
       "4         0         0         0         0  \n",
       "\n",
       "[5 rows x 784 columns]"
      ]
     },
     "metadata": {},
     "output_type": "display_data"
    }
   ],
   "source": [
    "#read both train and test csv file\n",
    "train = pd.read_csv('train.csv')\n",
    "test = pd.read_csv('test.csv')\n",
    "\n",
    "#display head\n",
    "display(train.head())\n",
    "display(test.head())"
   ]
  },
  {
   "cell_type": "code",
   "execution_count": 4,
   "id": "853d2bf8",
   "metadata": {
    "execution": {
     "iopub.execute_input": "2022-03-09T19:30:23.632339Z",
     "iopub.status.busy": "2022-03-09T19:30:23.631843Z",
     "iopub.status.idle": "2022-03-09T19:30:23.634784Z",
     "shell.execute_reply": "2022-03-09T19:30:23.634320Z",
     "shell.execute_reply.started": "2022-03-09T19:16:05.461987Z"
    },
    "papermill": {
     "duration": 0.02961,
     "end_time": "2022-03-09T19:30:23.634912",
     "exception": false,
     "start_time": "2022-03-09T19:30:23.605302",
     "status": "completed"
    },
    "tags": []
   },
   "outputs": [
    {
     "data": {
      "text/plain": [
       "((42000, 784), (42000,), (28000, 784))"
      ]
     },
     "execution_count": 4,
     "metadata": {},
     "output_type": "execute_result"
    }
   ],
   "source": [
    "#from train -> X_train, y_train and get numpy array.\n",
    "X_train = train.iloc[:,1:].values\n",
    "y_train = train['label'].values\n",
    "\n",
    "#get numpy array for test data.\n",
    "X_test = test.values\n",
    "\n",
    "#shape of the data\n",
    "X_train.shape, y_train.shape, X_test.shape"
   ]
  },
  {
   "cell_type": "code",
   "execution_count": 5,
   "id": "ea8913f7",
   "metadata": {},
   "outputs": [
    {
     "name": "stdout",
     "output_type": "stream",
     "text": [
      "min: 0\n",
      "max: 255\n",
      "data type: int64\n"
     ]
    },
    {
     "data": {
      "text/plain": [
       "0    0.098381\n",
       "1    0.111524\n",
       "2    0.099452\n",
       "3    0.103595\n",
       "4    0.096952\n",
       "5    0.090357\n",
       "6    0.098500\n",
       "7    0.104786\n",
       "8    0.096738\n",
       "9    0.099714\n",
       "dtype: float64"
      ]
     },
     "execution_count": 5,
     "metadata": {},
     "output_type": "execute_result"
    }
   ],
   "source": [
    "#values on input range from 0 to 255, dtype int\n",
    "print(f'min: {np.min(X_train)}')\n",
    "print(f'max: {np.max(X_train)}')\n",
    "print(f'data type: {X_train.dtype}')\n",
    "\n",
    "#check proportion of labels\n",
    "pd.Series(y_train).value_counts(normalize=True).sort_index()"
   ]
  },
  {
   "cell_type": "code",
   "execution_count": 6,
   "id": "248012bc",
   "metadata": {
    "execution": {
     "iopub.execute_input": "2022-03-09T19:30:23.723537Z",
     "iopub.status.busy": "2022-03-09T19:30:23.722848Z",
     "iopub.status.idle": "2022-03-09T19:30:23.818894Z",
     "shell.execute_reply": "2022-03-09T19:30:23.818365Z",
     "shell.execute_reply.started": "2022-03-09T19:16:05.487604Z"
    },
    "papermill": {
     "duration": 0.117839,
     "end_time": "2022-03-09T19:30:23.819018",
     "exception": false,
     "start_time": "2022-03-09T19:30:23.701179",
     "status": "completed"
    },
    "tags": []
   },
   "outputs": [],
   "source": [
    "#normalize train and test images\n",
    "X_train = (X_train.astype(np.float32) - 127.5)/127.5\n",
    "X_test = (X_test.astype(np.float32) - 127.5)/127.5\n",
    "\n",
    "#encode labels\n",
    "y_train=to_categorical(y_train)"
   ]
  },
  {
   "cell_type": "code",
   "execution_count": 7,
   "id": "be7ebad1",
   "metadata": {
    "execution": {
     "iopub.execute_input": "2022-03-09T19:30:23.861070Z",
     "iopub.status.busy": "2022-03-09T19:30:23.860392Z",
     "iopub.status.idle": "2022-03-09T19:30:23.865368Z",
     "shell.execute_reply": "2022-03-09T19:30:23.865842Z",
     "shell.execute_reply.started": "2022-03-09T19:16:05.683495Z"
    },
    "papermill": {
     "duration": 0.027536,
     "end_time": "2022-03-09T19:30:23.865963",
     "exception": false,
     "start_time": "2022-03-09T19:30:23.838427",
     "status": "completed"
    },
    "tags": []
   },
   "outputs": [
    {
     "data": {
      "text/plain": [
       "((42000, 28, 28, 1), (28000, 28, 28, 1))"
      ]
     },
     "execution_count": 7,
     "metadata": {},
     "output_type": "execute_result"
    }
   ],
   "source": [
    "#Reshape train and test images from 784 to 28 x 28 x 1\n",
    "X_train = X_train.reshape(-1,28,28,1)\n",
    "X_test = X_test.reshape(-1,28,28,1)\n",
    "\n",
    "#shape of data\n",
    "X_train.shape, X_test.shape"
   ]
  },
  {
   "cell_type": "code",
   "execution_count": 8,
   "id": "6aa85f4f",
   "metadata": {
    "execution": {
     "iopub.execute_input": "2022-03-09T19:30:23.908291Z",
     "iopub.status.busy": "2022-03-09T19:30:23.907630Z",
     "iopub.status.idle": "2022-03-09T19:30:24.094365Z",
     "shell.execute_reply": "2022-03-09T19:30:24.094789Z",
     "shell.execute_reply.started": "2022-03-09T19:16:05.693044Z"
    },
    "papermill": {
     "duration": 0.209385,
     "end_time": "2022-03-09T19:30:24.094928",
     "exception": false,
     "start_time": "2022-03-09T19:30:23.885543",
     "status": "completed"
    },
    "tags": []
   },
   "outputs": [],
   "source": [
    "#create training set and validation set\n",
    "X_train, X_val, y_train, y_val = train_test_split(X_train, y_train, stratify=y_train, random_state = 42)"
   ]
  },
  {
   "cell_type": "code",
   "execution_count": 9,
   "id": "29c47e79",
   "metadata": {
    "execution": {
     "iopub.execute_input": "2022-03-09T19:30:24.190943Z",
     "iopub.status.busy": "2022-03-09T19:30:24.190411Z",
     "iopub.status.idle": "2022-03-09T19:30:24.395291Z",
     "shell.execute_reply": "2022-03-09T19:30:24.394288Z",
     "shell.execute_reply.started": "2022-03-09T19:16:06.157357Z"
    },
    "papermill": {
     "duration": 0.233617,
     "end_time": "2022-03-09T19:30:24.395493",
     "exception": false,
     "start_time": "2022-03-09T19:30:24.161876",
     "status": "completed"
    },
    "tags": []
   },
   "outputs": [],
   "source": [
    "#define a model\n",
    "model = Sequential()\n",
    "\n",
    "#Convolution layer 1\n",
    "model.add(Conv2D(filters=32, kernel_size=(3,3), activation='relu', input_shape=(28, 28, 1)))\n",
    "model.add(BatchNormalization())\n",
    "\n",
    "#Convolution layer 2\n",
    "model.add(Conv2D(filters=32, kernel_size=(3,3), activation='relu'))\n",
    "model.add(BatchNormalization())\n",
    "model.add(MaxPooling2D(pool_size=(2,2)))\n",
    "\n",
    "#Convolution layer 3\n",
    "model.add(Conv2D(filters=64, kernel_size=(3,3), activation='relu'))\n",
    "model.add(BatchNormalization())\n",
    "model.add(MaxPooling2D(pool_size=(2,2)))\n",
    "\n",
    "#fully connected layer\n",
    "model.add(Flatten())\n",
    "\n",
    "#dense layer 1\n",
    "model.add(Dense(units=200, activation='relu'))\n",
    "model.add(BatchNormalization())\n",
    "\n",
    "#dense layer 2\n",
    "model.add(Dense(units=100, activation='relu'))\n",
    "model.add(BatchNormalization())\n",
    "\n",
    "#output layer\n",
    "model.add(Dense(units=10, activation='softmax'))"
   ]
  },
  {
   "cell_type": "code",
   "execution_count": 10,
   "id": "03153f5b",
   "metadata": {
    "execution": {
     "iopub.execute_input": "2022-03-09T19:30:24.437983Z",
     "iopub.status.busy": "2022-03-09T19:30:24.437455Z",
     "iopub.status.idle": "2022-03-09T19:30:24.450273Z",
     "shell.execute_reply": "2022-03-09T19:30:24.450726Z",
     "shell.execute_reply.started": "2022-03-09T19:16:06.369634Z"
    },
    "papermill": {
     "duration": 0.035182,
     "end_time": "2022-03-09T19:30:24.450846",
     "exception": false,
     "start_time": "2022-03-09T19:30:24.415664",
     "status": "completed"
    },
    "tags": []
   },
   "outputs": [],
   "source": [
    "#compile the model\n",
    "model.compile(loss='categorical_crossentropy', optimizer='adam', metrics=['accuracy'])"
   ]
  },
  {
   "cell_type": "code",
   "execution_count": 11,
   "id": "cd21c226",
   "metadata": {
    "execution": {
     "iopub.execute_input": "2022-03-09T19:30:24.493599Z",
     "iopub.status.busy": "2022-03-09T19:30:24.493088Z",
     "iopub.status.idle": "2022-03-09T19:30:24.504622Z",
     "shell.execute_reply": "2022-03-09T19:30:24.505056Z",
     "shell.execute_reply.started": "2022-03-09T19:16:06.382666Z"
    },
    "papermill": {
     "duration": 0.034764,
     "end_time": "2022-03-09T19:30:24.505187",
     "exception": false,
     "start_time": "2022-03-09T19:30:24.470423",
     "status": "completed"
    },
    "tags": []
   },
   "outputs": [
    {
     "name": "stdout",
     "output_type": "stream",
     "text": [
      "Model: \"sequential\"\n",
      "_________________________________________________________________\n",
      " Layer (type)                Output Shape              Param #   \n",
      "=================================================================\n",
      " conv2d (Conv2D)             (None, 26, 26, 32)        320       \n",
      "                                                                 \n",
      " batch_normalization (BatchN  (None, 26, 26, 32)       128       \n",
      " ormalization)                                                   \n",
      "                                                                 \n",
      " conv2d_1 (Conv2D)           (None, 24, 24, 32)        9248      \n",
      "                                                                 \n",
      " batch_normalization_1 (Batc  (None, 24, 24, 32)       128       \n",
      " hNormalization)                                                 \n",
      "                                                                 \n",
      " max_pooling2d (MaxPooling2D  (None, 12, 12, 32)       0         \n",
      " )                                                               \n",
      "                                                                 \n",
      " conv2d_2 (Conv2D)           (None, 10, 10, 64)        18496     \n",
      "                                                                 \n",
      " batch_normalization_2 (Batc  (None, 10, 10, 64)       256       \n",
      " hNormalization)                                                 \n",
      "                                                                 \n",
      " max_pooling2d_1 (MaxPooling  (None, 5, 5, 64)         0         \n",
      " 2D)                                                             \n",
      "                                                                 \n",
      " flatten (Flatten)           (None, 1600)              0         \n",
      "                                                                 \n",
      " dense (Dense)               (None, 200)               320200    \n",
      "                                                                 \n",
      " batch_normalization_3 (Batc  (None, 200)              800       \n",
      " hNormalization)                                                 \n",
      "                                                                 \n",
      " dense_1 (Dense)             (None, 100)               20100     \n",
      "                                                                 \n",
      " batch_normalization_4 (Batc  (None, 100)              400       \n",
      " hNormalization)                                                 \n",
      "                                                                 \n",
      " dense_2 (Dense)             (None, 10)                1010      \n",
      "                                                                 \n",
      "=================================================================\n",
      "Total params: 371,086\n",
      "Trainable params: 370,230\n",
      "Non-trainable params: 856\n",
      "_________________________________________________________________\n"
     ]
    }
   ],
   "source": [
    "model.summary()"
   ]
  },
  {
   "cell_type": "code",
   "execution_count": 12,
   "id": "253f2064",
   "metadata": {
    "execution": {
     "iopub.execute_input": "2022-03-09T19:30:25.670815Z",
     "iopub.status.busy": "2022-03-09T19:30:25.670138Z",
     "iopub.status.idle": "2022-03-09T19:39:49.580349Z",
     "shell.execute_reply": "2022-03-09T19:39:49.579904Z",
     "shell.execute_reply.started": "2022-03-09T19:16:07.020966Z"
    },
    "papermill": {
     "duration": 563.934638,
     "end_time": "2022-03-09T19:39:49.580495",
     "exception": false,
     "start_time": "2022-03-09T19:30:25.645857",
     "status": "completed"
    },
    "tags": []
   },
   "outputs": [
    {
     "name": "stdout",
     "output_type": "stream",
     "text": [
      "Epoch 1/10\n",
      "247/247 [==============================] - 78s 310ms/step - loss: 0.1405 - accuracy: 0.9586\n",
      "Epoch 2/10\n",
      "247/247 [==============================] - 68s 277ms/step - loss: 0.0373 - accuracy: 0.9889\n",
      "Epoch 3/10\n",
      "247/247 [==============================] - 57s 230ms/step - loss: 0.0242 - accuracy: 0.9929\n",
      "Epoch 4/10\n",
      "247/247 [==============================] - 57s 229ms/step - loss: 0.0179 - accuracy: 0.9948\n",
      "Epoch 5/10\n",
      "247/247 [==============================] - 65s 262ms/step - loss: 0.0147 - accuracy: 0.9956\n",
      "Epoch 6/10\n",
      "247/247 [==============================] - 60s 243ms/step - loss: 0.0109 - accuracy: 0.9970\n",
      "Epoch 7/10\n",
      "247/247 [==============================] - 64s 260ms/step - loss: 0.0245 - accuracy: 0.9917\n",
      "Epoch 8/10\n",
      "247/247 [==============================] - 63s 254ms/step - loss: 0.0079 - accuracy: 0.9978\n",
      "Epoch 9/10\n",
      "247/247 [==============================] - 59s 238ms/step - loss: 0.0058 - accuracy: 0.9983\n",
      "Epoch 10/10\n",
      "247/247 [==============================] - 62s 253ms/step - loss: 0.0042 - accuracy: 0.9990\n"
     ]
    },
    {
     "data": {
      "text/plain": [
       "<keras.callbacks.History at 0x7f9412f282e0>"
      ]
     },
     "execution_count": 12,
     "metadata": {},
     "output_type": "execute_result"
    }
   ],
   "source": [
    "#fit the model\n",
    "model.fit(x=X_train, y=y_train, epochs=10, batch_size=128)"
   ]
  },
  {
   "cell_type": "code",
   "execution_count": 13,
   "id": "aeee0ac6",
   "metadata": {
    "execution": {
     "iopub.execute_input": "2022-03-09T19:39:53.132520Z",
     "iopub.status.busy": "2022-03-09T19:39:53.131923Z",
     "iopub.status.idle": "2022-03-09T19:39:55.904460Z",
     "shell.execute_reply": "2022-03-09T19:39:55.904917Z",
     "shell.execute_reply.started": "2022-03-09T19:28:56.457403Z"
    },
    "papermill": {
     "duration": 4.523613,
     "end_time": "2022-03-09T19:39:55.905061",
     "exception": false,
     "start_time": "2022-03-09T19:39:51.381448",
     "status": "completed"
    },
    "tags": []
   },
   "outputs": [
    {
     "name": "stdout",
     "output_type": "stream",
     "text": [
      "329/329 [==============================] - 6s 16ms/step - loss: 0.0353 - accuracy: 0.9901\n"
     ]
    },
    {
     "data": {
      "text/plain": [
       "[0.035284463316202164, 0.9900952577590942]"
      ]
     },
     "execution_count": 13,
     "metadata": {},
     "output_type": "execute_result"
    }
   ],
   "source": [
    "#evaluate model for validation set\n",
    "model.evaluate(X_val, y_val)"
   ]
  },
  {
   "cell_type": "code",
   "execution_count": 14,
   "id": "81fa5d9d",
   "metadata": {
    "execution": {
     "iopub.execute_input": "2022-03-09T19:39:59.409663Z",
     "iopub.status.busy": "2022-03-09T19:39:59.409148Z",
     "iopub.status.idle": "2022-03-09T19:40:06.506505Z",
     "shell.execute_reply": "2022-03-09T19:40:06.506084Z",
     "shell.execute_reply.started": "2022-03-09T19:29:09.090441Z"
    },
    "papermill": {
     "duration": 8.86836,
     "end_time": "2022-03-09T19:40:06.506651",
     "exception": false,
     "start_time": "2022-03-09T19:39:57.638291",
     "status": "completed"
    },
    "tags": []
   },
   "outputs": [
    {
     "data": {
      "text/plain": [
       "array([2, 0, 9, 0, 3, 7, 0, 3, 0, 3])"
      ]
     },
     "execution_count": 14,
     "metadata": {},
     "output_type": "execute_result"
    }
   ],
   "source": [
    "#prediction on test data\n",
    "pred = np.argmax(model.predict(X_test), axis=1)\n",
    "\n",
    "#check first 10 predictions\n",
    "pred[:10]"
   ]
  },
  {
   "cell_type": "code",
   "execution_count": 15,
   "id": "2330a7c9",
   "metadata": {
    "execution": {
     "iopub.execute_input": "2022-03-09T19:40:15.612435Z",
     "iopub.status.busy": "2022-03-09T19:40:15.611733Z",
     "iopub.status.idle": "2022-03-09T19:40:15.659587Z",
     "shell.execute_reply": "2022-03-09T19:40:15.660129Z",
     "shell.execute_reply.started": "2022-03-09T19:29:26.598050Z"
    },
    "papermill": {
     "duration": 2.831416,
     "end_time": "2022-03-09T19:40:15.660308",
     "exception": false,
     "start_time": "2022-03-09T19:40:12.828892",
     "status": "completed"
    },
    "tags": []
   },
   "outputs": [],
   "source": [
    "#read sample_submission.csv in the dataframe\n",
    "#replace Label with predictions\n",
    "sub = pd.read_csv('sample_submission.csv')\n",
    "sub[\"Label\"] = pred\n",
    "sub.to_csv('submission.csv', index=False)"
   ]
  }
 ],
 "metadata": {
  "kernelspec": {
   "display_name": "Python 3 (ipykernel)",
   "language": "python",
   "name": "python3"
  },
  "language_info": {
   "codemirror_mode": {
    "name": "ipython",
    "version": 3
   },
   "file_extension": ".py",
   "mimetype": "text/x-python",
   "name": "python",
   "nbconvert_exporter": "python",
   "pygments_lexer": "ipython3",
   "version": "3.8.12"
  },
  "papermill": {
   "default_parameters": {},
   "duration": 616.360881,
   "end_time": "2022-03-09T19:40:21.936140",
   "environment_variables": {},
   "exception": null,
   "input_path": "__notebook__.ipynb",
   "output_path": "__notebook__.ipynb",
   "parameters": {},
   "start_time": "2022-03-09T19:30:05.575259",
   "version": "2.3.3"
  }
 },
 "nbformat": 4,
 "nbformat_minor": 5
}
